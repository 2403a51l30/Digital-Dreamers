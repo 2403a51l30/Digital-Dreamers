{
  "nbformat": 4,
  "nbformat_minor": 0,
  "metadata": {
    "colab": {
      "provenance": [],
      "authorship_tag": "ABX9TyNSxvDG45W/RtMiphvBVjjn",
      "include_colab_link": true
    },
    "kernelspec": {
      "name": "python3",
      "display_name": "Python 3"
    },
    "language_info": {
      "name": "python"
    }
  },
  "cells": [
    {
      "cell_type": "markdown",
      "metadata": {
        "id": "view-in-github",
        "colab_type": "text"
      },
      "source": [
        "<a href=\"https://colab.research.google.com/github/2403a51l30/Digital-Dreamers/blob/main/hackthon.ipynb\" target=\"_parent\"><img src=\"https://colab.research.google.com/assets/colab-badge.svg\" alt=\"Open In Colab\"/></a>"
      ]
    },
    {
      "cell_type": "code",
      "execution_count": null,
      "metadata": {
        "id": "nlxNK0C_IsaL"
      },
      "outputs": [],
      "source": [
        "def recommend_learning(score, style):\n",
        "    if score >= 80:\n",
        "        level = \"Advanced\"\n",
        "    elif score >= 50:\n",
        "        level = \"Intermediate\"\n",
        "    else:\n",
        "        level = \"Beginner\"\n",
        "    return f\"Recommended: {level} level course with {style} content.\"\n",
        "\n",
        "num_students = int(input(\"Enter number of students: \"))\n",
        "\n",
        "for i in range(num_students):\n",
        "    name = input(f\"\\nEnter student {i+1} name: \")\n",
        "    score = int(input(f\"Enter {name}'s score: \"))\n",
        "    style = input(f\"Enter {name}'s preferred learning style (video/interactive/reading): \")\n",
        "\n",
        "    print(f\"\\n👩‍🎓 {name}\")\n",
        "    print(recommend_learning(score, style))\n"
      ]
    }
  ]
}